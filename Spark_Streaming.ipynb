{
 "cells": [
  {
   "cell_type": "markdown",
   "id": "95b6d43d",
   "metadata": {},
   "source": [
    "# <font color='Black'>I) Importation des libraries et Création du SparkContext</font>"
   ]
  },
  {
   "cell_type": "code",
   "execution_count": 4,
   "id": "b703ec2d",
   "metadata": {},
   "outputs": [],
   "source": [
    "import os\n",
    "import sys\n",
    "\n",
    "os.environ['PYSPARK_PYTHON'] = sys.executable\n",
    "os.environ['PYSPARK_DRIVER_PYTHON'] = sys.executable\n",
    "\n",
    "from pyspark import *\n",
    "import findspark\n",
    "\n",
    "sc = SparkContext.getOrCreate()\n",
    "# Creating a spark session\n",
    "findspark.init()\n",
    "spark = SparkSession \\\n",
    ".builder \\\n",
    ".appName(\"Python Spark DataFrames basic example\") \\\n",
    ".config(\"spark.some.config.option\", \"some-value\") \\\n",
    ".getOrCreate()"
   ]
  },
  {
   "cell_type": "code",
   "execution_count": 5,
   "id": "5c980bf9",
   "metadata": {},
   "outputs": [
    {
     "data": {
      "text/html": [
       "\n",
       "            <div>\n",
       "                <p><b>SparkSession - in-memory</b></p>\n",
       "                \n",
       "        <div>\n",
       "            <p><b>SparkContext</b></p>\n",
       "\n",
       "            <p><a href=\"http://DESKTOP-5TRQJSH.mshome.net:4041\">Spark UI</a></p>\n",
       "\n",
       "            <dl>\n",
       "              <dt>Version</dt>\n",
       "                <dd><code>v3.3.1</code></dd>\n",
       "              <dt>Master</dt>\n",
       "                <dd><code>local[*]</code></dd>\n",
       "              <dt>AppName</dt>\n",
       "                <dd><code>pyspark-shell</code></dd>\n",
       "            </dl>\n",
       "        </div>\n",
       "        \n",
       "            </div>\n",
       "        "
      ],
      "text/plain": [
       "<pyspark.sql.session.SparkSession at 0x1bfb8a1cf40>"
      ]
     },
     "execution_count": 5,
     "metadata": {},
     "output_type": "execute_result"
    }
   ],
   "source": [
    "spark"
   ]
  },
  {
   "cell_type": "markdown",
   "id": "ce113022",
   "metadata": {},
   "source": [
    "# <font color='Black'>II) Déplacement des données du ficher \"Commentaire.json\" dans une DataFrame</font>"
   ]
  },
  {
   "cell_type": "code",
   "execution_count": 6,
   "id": "c5467239",
   "metadata": {},
   "outputs": [],
   "source": [
    "df = spark.read.json(\"Commentaires.json\").cache()"
   ]
  },
  {
   "cell_type": "code",
   "execution_count": 7,
   "id": "b96933e8",
   "metadata": {},
   "outputs": [
    {
     "name": "stdout",
     "output_type": "stream",
     "text": [
      "+-----------+-------------+\n",
      "|Commentaire|       Emogie|\n",
      "+-----------+-------------+\n",
      "|         C1|    Satisfait|\n",
      "|         C2|Non Satisfait|\n",
      "|         C3|    Satisfait|\n",
      "|         C4|    Satisfait|\n",
      "|         C5|Non Satisfait|\n",
      "|         C6|    Satisfait|\n",
      "|         C7|    Satisfait|\n",
      "|         C8|Non Satisfait|\n",
      "|         C9|    Satisfait|\n",
      "|        C10|Non Satisfait|\n",
      "|        C11|Non Satisfait|\n",
      "+-----------+-------------+\n",
      "\n"
     ]
    }
   ],
   "source": [
    "df.show()"
   ]
  },
  {
   "cell_type": "code",
   "execution_count": 8,
   "id": "45638268",
   "metadata": {},
   "outputs": [],
   "source": [
    "# Creation d'une vue temporarire du DataFrame\n",
    "df.createTempView(\"TempCommentaires\")"
   ]
  },
  {
   "cell_type": "markdown",
   "id": "ccb7e7bb",
   "metadata": {},
   "source": [
    "# <font color='Black'>III) Les traitements d'analyse des commentaires du site web Hesspress</font>"
   ]
  },
  {
   "cell_type": "code",
   "execution_count": 16,
   "id": "099c0c03",
   "metadata": {},
   "outputs": [
    {
     "name": "stdout",
     "output_type": "stream",
     "text": [
      "+-------------+-----+\n",
      "|       Emogie|count|\n",
      "+-------------+-----+\n",
      "|    Satisfait|    6|\n",
      "|Non Satisfait|    5|\n",
      "+-------------+-----+\n",
      "\n"
     ]
    }
   ],
   "source": [
    "# Groupement des deux types de sentiments \"Satisfait\" et \"Non Satisfait\"\n",
    "df.groupBy(\"Emogie\").count().show()"
   ]
  },
  {
   "cell_type": "code",
   "execution_count": 15,
   "id": "3224d671",
   "metadata": {},
   "outputs": [
    {
     "name": "stdout",
     "output_type": "stream",
     "text": [
      "+-----------+---------+\n",
      "|Commentaire|   Emogie|\n",
      "+-----------+---------+\n",
      "|         C1|Satisfait|\n",
      "|         C3|Satisfait|\n",
      "|         C4|Satisfait|\n",
      "|         C6|Satisfait|\n",
      "|         C7|Satisfait|\n",
      "|         C9|Satisfait|\n",
      "+-----------+---------+\n",
      "\n"
     ]
    }
   ],
   "source": [
    "# Application d'un filtre pour retourner les commentaires qui ont l'Emogie \"Satisfait\"\n",
    "df.filter(df[\"Emogie\"] == \"Satisfait\").show()"
   ]
  },
  {
   "cell_type": "code",
   "execution_count": 10,
   "id": "c7ab3a5e",
   "metadata": {},
   "outputs": [
    {
     "name": "stdout",
     "output_type": "stream",
     "text": [
      "+-----------+-------------+\n",
      "|Commentaire|       Emogie|\n",
      "+-----------+-------------+\n",
      "|         C2|Non Satisfait|\n",
      "|         C5|Non Satisfait|\n",
      "|         C8|Non Satisfait|\n",
      "|        C10|Non Satisfait|\n",
      "|        C11|Non Satisfait|\n",
      "+-----------+-------------+\n",
      "\n"
     ]
    }
   ],
   "source": [
    "# Application d'un filtre pour retourner les commentaires qui ont l'Emogie \"Non Satisfait\"\n",
    "df.filter(df[\"Emogie\"] == \"Non Satisfait\").show()"
   ]
  }
 ],
 "metadata": {
  "kernelspec": {
   "display_name": "Python 3 (ipykernel)",
   "language": "python",
   "name": "python3"
  },
  "language_info": {
   "codemirror_mode": {
    "name": "ipython",
    "version": 3
   },
   "file_extension": ".py",
   "mimetype": "text/x-python",
   "name": "python",
   "nbconvert_exporter": "python",
   "pygments_lexer": "ipython3",
   "version": "3.9.7"
  }
 },
 "nbformat": 4,
 "nbformat_minor": 5
}
